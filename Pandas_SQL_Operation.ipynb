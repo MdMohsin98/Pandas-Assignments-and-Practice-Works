{
 "cells": [
  {
   "cell_type": "code",
   "execution_count": 1,
   "id": "28cbee0e",
   "metadata": {},
   "outputs": [],
   "source": [
    "# Pandas SQL Operation\n",
    "import pandas as pd\n",
    "import sqlite3 as sql"
   ]
  },
  {
   "cell_type": "code",
   "execution_count": 2,
   "id": "ff0e59d6",
   "metadata": {},
   "outputs": [],
   "source": [
    "#Creating A table in SQL using python\n",
    "create_table = '''CREATE Table student_score(ID int, Name varchar(30), Math Real, Science Real);'''\n"
   ]
  },
  {
   "cell_type": "code",
   "execution_count": 3,
   "id": "229ab667",
   "metadata": {},
   "outputs": [],
   "source": [
    "# Executing the SQL statement\n",
    "executeSQL = sql.connect(':memory:')\n",
    "executeSQL.execute(create_table)\n",
    "executeSQL.commit()"
   ]
  },
  {
   "cell_type": "code",
   "execution_count": 4,
   "id": "6665d850",
   "metadata": {},
   "outputs": [],
   "source": [
    "# Prepare a SQL query\n",
    "sql_query = executeSQL.execute('select * from student_score')"
   ]
  },
  {
   "cell_type": "code",
   "execution_count": 5,
   "id": "71f26c16",
   "metadata": {},
   "outputs": [],
   "source": [
    "# Fetch result from sql lite database\n",
    "resulset = sql_query.fetchall()"
   ]
  },
  {
   "cell_type": "code",
   "execution_count": 6,
   "id": "36d3dc71",
   "metadata": {},
   "outputs": [
    {
     "data": {
      "text/plain": [
       "[]"
      ]
     },
     "execution_count": 6,
     "metadata": {},
     "output_type": "execute_result"
    }
   ],
   "source": [
    "resulset"
   ]
  },
  {
   "cell_type": "code",
   "execution_count": 7,
   "id": "97d6a734",
   "metadata": {},
   "outputs": [],
   "source": [
    "# Inserting values into SQL lite\n",
    "insertSQL = [(10, 'Jack', 85, 92), (29, 'Tom', 73, 89), (65, 'Ram', 65.5, 77),\n",
    "            (5, 'Steve', 55, 91)]"
   ]
  },
  {
   "cell_type": "code",
   "execution_count": 11,
   "id": "b5ae2a6d",
   "metadata": {},
   "outputs": [],
   "source": [
    "# insert records into sql table through sql command\n",
    "insert_statement = 'Insert into student_score values (?,?,?,?)'\n",
    "executeSQL.executemany(insert_statement, insertSQL)\n",
    "executeSQL.commit()"
   ]
  },
  {
   "cell_type": "code",
   "execution_count": 12,
   "id": "7154cbce",
   "metadata": {},
   "outputs": [],
   "source": [
    "# Prepare SQL Query\n",
    "SQL_query = executeSQL.execute('select * from student_score')"
   ]
  },
  {
   "cell_type": "code",
   "execution_count": 13,
   "id": "4e6ad7fc",
   "metadata": {},
   "outputs": [
    {
     "data": {
      "text/plain": [
       "[(10, 'Jack', 85.0, 92.0),\n",
       " (29, 'Tom', 73.0, 89.0),\n",
       " (65, 'Ram', 65.5, 77.0),\n",
       " (5, 'Steve', 55.0, 91.0)]"
      ]
     },
     "execution_count": 13,
     "metadata": {},
     "output_type": "execute_result"
    }
   ],
   "source": [
    "# Fetch the resultset from query\n",
    "resulset = SQL_query.fetchall()\n",
    "resulset"
   ]
  },
  {
   "cell_type": "code",
   "execution_count": null,
   "id": "cda53559",
   "metadata": {},
   "outputs": [],
   "source": []
  }
 ],
 "metadata": {
  "kernelspec": {
   "display_name": "Python 3 (ipykernel)",
   "language": "python",
   "name": "python3"
  },
  "language_info": {
   "codemirror_mode": {
    "name": "ipython",
    "version": 3
   },
   "file_extension": ".py",
   "mimetype": "text/x-python",
   "name": "python",
   "nbconvert_exporter": "python",
   "pygments_lexer": "ipython3",
   "version": "3.10.2"
  }
 },
 "nbformat": 4,
 "nbformat_minor": 5
}
